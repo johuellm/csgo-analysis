{
 "cells": [
  {
   "cell_type": "code",
   "execution_count": null,
   "metadata": {},
   "outputs": [],
   "source": [
    "from awpy.parser import DemoParser\n",
    "from awpy.visualization.plot import plot_round\n",
    "from dataclasses import dataclass, field, fields\n",
    "from dataclasses_json import dataclass_json\n",
    "import csv"
   ]
  },
  {
   "cell_type": "code",
   "execution_count": null,
   "metadata": {},
   "outputs": [],
   "source": [
    "demo_file_name = r\"demos/cloud9-vs-outsiders-m1-dust2.dem\"\n",
    "\n",
    "p = DemoParser(demofile=demo_file_name, parse_rate=128, parse_frames=True)\n",
    "\n",
    "data = p.parse()"
   ]
  },
  {
   "cell_type": "code",
   "execution_count": null,
   "metadata": {},
   "outputs": [],
   "source": [
    "@dataclass_json\n",
    "@dataclass\n",
    "class Position:\n",
    "    \"\"\"\n",
    "    x, y, and z coordinates in a CSGO map.\n",
    "    \"\"\"\n",
    "    x: float\n",
    "    y: float\n",
    "    z: float\n",
    "\n",
    "@dataclass_json\n",
    "@dataclass\n",
    "class PlayerInfo:\n",
    "    \"\"\"\n",
    "    Contains information about a CSGO player including their name, their team, and a list of their positions throughout the gme\n",
    "    \"\"\"\n",
    "    name: str\n",
    "    team: str\n",
    "    positions: list[Position] # Length of this list is the number of frames in the round\n",
    "\n",
    "@dataclass_json\n",
    "@dataclass\n",
    "class RoundInfo:\n",
    "    \"\"\"\n",
    "    Contains a list of PlayerInfo objects, one for each player in the CSGO game round.\n",
    "    \"\"\"\n",
    "    players: list[PlayerInfo] = field(default_factory=list)# Length of this list is the number of rounds in the game\n",
    "\n",
    "@dataclass_json\n",
    "@dataclass\n",
    "class Game:\n",
    "    \"\"\"\n",
    "    Contains a list of RoundInfo objects, one for each round in the CSGO game.\n",
    "    \"\"\"\n",
    "    round_info: list[RoundInfo] = field(default_factory=list) # Length of this list is the number of rounds in the game\n",
    "\n",
    "    def add_player_info(self, round_index: int, player_name: str, team:str, position: Position):\n",
    "        \"\"\"\n",
    "        Uses the given information to construct a PlayerInfo object and add it to the RoundInfo object indexed by round_index\n",
    "        \"\"\"\n",
    "        while len(self.round_info) <= round_index:\n",
    "            self.round_info.append(RoundInfo())\n",
    "        for player in self.round_info[round_index].players:\n",
    "            if player.name == player_name:\n",
    "                player.positions.append(position)\n",
    "                return\n",
    "        self.round_info[round_index].players.append(PlayerInfo(player_name, team, [position]))\n",
    "        return\n",
    "\n",
    "game = Game()\n",
    "\n",
    "@dataclass_json\n",
    "@dataclass\n",
    "class PlayerState:\n",
    "    \"\"\"\n",
    "    \"\"\"\n",
    "    round_index: int\n",
    "    player_name: str\n",
    "    team: str\n",
    "    x: float\n",
    "    y: float\n",
    "    z: float\n",
    "\n",
    "flat_game_info: list[PlayerState] = []\n",
    "\n",
    "for game_round_index in range(0, len(data[\"gameRounds\"])):\n",
    "    frames = data[\"gameRounds\"][game_round_index][\"frames\"]\n",
    "    # print(\"Round: \", game_round_index + 1)\n",
    "    for index, frame in enumerate(frames):\n",
    "        # print(\"Frame: \", index + 1)\n",
    "        for team in [\"ct\", \"t\"]:\n",
    "            for player in frame[team][\"players\"]:\n",
    "                position = Position(player[\"x\"], player[\"y\"], player[\"z\"])\n",
    "                # print(player[\"name\"], position)\n",
    "                game.add_player_info(game_round_index, player[\"name\"], team, position)\n",
    "                flat_game_info.append(PlayerState(game_round_index, player[\"name\"], team, player[\"x\"], player[\"y\"], player[\"z\"]))\n",
    "\n",
    "def debug_print_game(game: Game):\n",
    "    print(\"Round count: \", len(game.round_info))\n",
    "    for round in game.round_info:\n",
    "        print(\"Player count: \", len(round.players))\n",
    "        for player in round.players:\n",
    "            print(\"Frame count: \", len(player.positions))\n",
    "\n",
    "# print(game.to_json())\n",
    "print(flat_game_info)\n",
    "\n"
   ]
  },
  {
   "cell_type": "code",
   "execution_count": null,
   "metadata": {},
   "outputs": [],
   "source": [
    "with open(\"data.csv\", \"w\") as output_file:\n",
    "    writer = csv.writer(output_file)\n",
    "    writer.writerow([class_field.name for class_field in fields(PlayerState)])\n",
    "    for state_entry in flat_game_info:\n",
    "        writer.writerow([getattr(state_entry, field_name) for field_name in [class_field.name for class_field in fields(PlayerState)]])"
   ]
  },
  {
   "cell_type": "code",
   "execution_count": null,
   "metadata": {},
   "outputs": [],
   "source": [
    "d = data\n",
    "plot_round(\"best_round_ever.gif\", d[\"gameRounds\"][7][\"frames\"], map_name=d[\"mapName\"], map_type=\"simpleradar\", dark=False)"
   ]
  },
  {
   "cell_type": "code",
   "execution_count": null,
   "metadata": {},
   "outputs": [],
   "source": [
    "import parsing\n",
    "\n",
    "demo_file_name = r\"D:/Samihan/Documents/Programming/Python Projects/CSGO Demo Parsing/demos/cloud9-vs-outsiders-m1-dust2.dem\"\n",
    "print(f\"Parsing {demo_file_name}\")\n",
    "data = parsing.parse_demo_file(demo_file_name)\n",
    "# print(data.keys())"
   ]
  },
  {
   "cell_type": "code",
   "execution_count": null,
   "metadata": {},
   "outputs": [],
   "source": [
    "parser_params = data[\"parserParameters\"]\n",
    "for key in parser_params.keys():\n",
    "    print(f\"{key}: {parser_params[key]}\")"
   ]
  },
  {
   "cell_type": "code",
   "execution_count": null,
   "metadata": {},
   "outputs": [],
   "source": [
    "parser_params = data[\"serverVars\"]\n",
    "for key in parser_params.keys():\n",
    "    print(f\"{key}: {parser_params[key]}\")"
   ]
  },
  {
   "cell_type": "code",
   "execution_count": null,
   "metadata": {},
   "outputs": [],
   "source": [
    "parser_params = data[\"matchPhases\"]\n",
    "for key in parser_params.keys():\n",
    "    print(f\"{key}: {parser_params[key]}\")"
   ]
  },
  {
   "cell_type": "code",
   "execution_count": null,
   "metadata": {},
   "outputs": [],
   "source": [
    "rounds = data[\"gameRounds\"]\n",
    "first_round = rounds[0]\n",
    "for key in first_round.keys():\n",
    "    print(key, type(first_round[key]))"
   ]
  },
  {
   "cell_type": "code",
   "execution_count": null,
   "metadata": {},
   "outputs": [],
   "source": [
    "frames = first_round[\"frames\"]\n",
    "first_frame = frames[0]\n",
    "for key in first_frame.keys():\n",
    "    print(key, type(first_frame[key]))"
   ]
  },
  {
   "cell_type": "code",
   "execution_count": 1,
   "metadata": {},
   "outputs": [
    {
     "name": "stderr",
     "output_type": "stream",
     "text": [
      "d:\\Samihan\\Documents\\Programming\\Python Projects\\CSGO Demo Parsing\\timelining.py:1057: RuntimeWarning: invalid value encountered in double_scalars\n",
      "  degrees_apart = 180*np.arccos(np.dot(v1,v2)/(np.linalg.norm(v1)*np.linalg.norm(v2)))/np.pi\n",
      "d:\\Samihan\\Documents\\Programming\\Python Projects\\CSGO Demo Parsing\\timelining.py:1057: RuntimeWarning: invalid value encountered in arccos\n",
      "  degrees_apart = 180*np.arccos(np.dot(v1,v2)/(np.linalg.norm(v1)*np.linalg.norm(v2)))/np.pi\n"
     ]
    }
   ],
   "source": [
    "# Loading demo from .json\n",
    "import models\n",
    "import json\n",
    "\n",
    "with open(\"cloud9-vs-outsiders-m1-dust2.json\", \"r\") as file:\n",
    "    data = json.load(file)\n",
    "\n",
    "demo = models.deserialize_demo_data(data)\n",
    "\n",
    "# Creating timeline and events from demo\n",
    "import timelining\n",
    "\n",
    "timeline = timelining.create_timeline(demo)\n",
    "# print(len(timeline.events))\n",
    "# for event in timeline.events:\n",
    "#     print(event)"
   ]
  },
  {
   "cell_type": "code",
   "execution_count": 2,
   "metadata": {},
   "outputs": [
    {
     "name": "stderr",
     "output_type": "stream",
     "text": [
      "Drawing frames:  40%|███▉      | 38/96 [01:41<02:52,  2.98s/it]"
     ]
    }
   ],
   "source": [
    "import timelining\n",
    "\n",
    "round_boundary_ticks: list[int] = [(round.frames[0].tick, round.frames[-1].tick) for round in demo.game_rounds]\n",
    "\n",
    "round_frame_ticks: list[list[int]] = []\n",
    "for round in demo.game_rounds:\n",
    "    round_frame_ticks.append([frame.tick for frame in round.frames])\n",
    "\n",
    "organized_events: list[timelining.Event] = [[] for _ in range(0, len(demo.game_rounds))]\n",
    "for event in timeline.events:\n",
    "    for frame_index, frame_ticks in enumerate(round_frame_ticks):\n",
    "        if event.tick in frame_ticks:\n",
    "            organized_events[frame_index].append(event)\n",
    "            break\n",
    "# print(len(organized_events))\n",
    "# print([len(frame) for frame in organized_events])\n",
    "\n",
    "import plotting\n",
    "for round in demo.game_rounds[0:1]:\n",
    "    plotting.plot_round(f\"round_{round.round_number}.gif\", round.frames, map_name=demo.map_name, map_type=\"simpleradar\", dark=False, show_tiles=True)\n",
    "\n",
    "# TODO: Organize events into frames so each frame of the GIF can have the associated events grouped with it\n"
   ]
  },
  {
   "cell_type": "code",
   "execution_count": null,
   "metadata": {},
   "outputs": [],
   "source": [
    "# import plotting\n",
    "\n",
    "# plotting.plot_tiles(map_name = \"de_dust2\")"
   ]
  },
  {
   "cell_type": "code",
   "execution_count": null,
   "metadata": {},
   "outputs": [],
   "source": [
    "# Writing events to csv\n",
    "\n",
    "import csv\n",
    "from dataclasses import fields\n",
    "\n",
    "with open(\"events.csv\", \"w\") as file:\n",
    "    writer = csv.writer(file)\n",
    "    all_fields: list[str] = []\n",
    "    for event in timeline.events:\n",
    "        all_fields.extend([field.name for field in fields(event)])\n",
    "    unique_fields = list(dict.fromkeys(all_fields))\n",
    "    # print(unique_fields)\n",
    "    writer.writerow([field for field in unique_fields])\n",
    "    for event in timeline.events:\n",
    "        writer.writerow([getattr(event, field, None) for field in unique_fields])\n",
    "\n",
    "# Writing event descriptions to .csv\n",
    "\n",
    "import csv\n",
    "from dataclasses import fields\n",
    "\n",
    "with open(\"event_descriptions.csv\", \"w\") as file:\n",
    "    writer = csv.writer(file)\n",
    "    writer.writerow([\"tick\", \"name\", \"description\"])\n",
    "    for event in timeline.events:\n",
    "        writer.writerow([event.tick, event.__class__.__name__, str(event)])"
   ]
  }
 ],
 "metadata": {
  "kernelspec": {
   "display_name": "Python 3.10.5 ('venv': venv)",
   "language": "python",
   "name": "python3"
  },
  "language_info": {
   "codemirror_mode": {
    "name": "ipython",
    "version": 3
   },
   "file_extension": ".py",
   "mimetype": "text/x-python",
   "name": "python",
   "nbconvert_exporter": "python",
   "pygments_lexer": "ipython3",
   "version": "3.10.5"
  },
  "orig_nbformat": 4,
  "vscode": {
   "interpreter": {
    "hash": "a923a424f45b8256257d59bbb973cc8ea890973d09b2fb951fe7c483bba07dcb"
   }
  }
 },
 "nbformat": 4,
 "nbformat_minor": 2
}
