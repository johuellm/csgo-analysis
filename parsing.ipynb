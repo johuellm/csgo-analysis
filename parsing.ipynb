{
 "cells": [
  {
   "cell_type": "code",
   "execution_count": null,
   "metadata": {},
   "outputs": [],
   "source": [
    "from awpy.parser import DemoParser\n",
    "from awpy.visualization.plot import plot_round\n",
    "from dataclasses import dataclass, field, fields\n",
    "from dataclasses_json import dataclass_json\n",
    "import csv"
   ]
  },
  {
   "cell_type": "code",
   "execution_count": null,
   "metadata": {},
   "outputs": [],
   "source": [
    "demo_file_name = r\"demos/cloud9-vs-outsiders-m1-dust2.dem\"\n",
    "\n",
    "p = DemoParser(demofile=demo_file_name, parse_rate=128, parse_frames=True)\n",
    "\n",
    "data = p.parse()"
   ]
  },
  {
   "cell_type": "code",
   "execution_count": null,
   "metadata": {},
   "outputs": [],
   "source": [
    "@dataclass_json\n",
    "@dataclass\n",
    "class Position:\n",
    "    \"\"\"\n",
    "    x, y, and z coordinates in a CSGO map.\n",
    "    \"\"\"\n",
    "    x: float\n",
    "    y: float\n",
    "    z: float\n",
    "\n",
    "@dataclass_json\n",
    "@dataclass\n",
    "class PlayerInfo:\n",
    "    \"\"\"\n",
    "    Contains information about a CSGO player including their name, their team, and a list of their positions throughout the gme\n",
    "    \"\"\"\n",
    "    name: str\n",
    "    team: str\n",
    "    positions: list[Position] # Length of this list is the number of frames in the round\n",
    "\n",
    "@dataclass_json\n",
    "@dataclass\n",
    "class RoundInfo:\n",
    "    \"\"\"\n",
    "    Contains a list of PlayerInfo objects, one for each player in the CSGO game round.\n",
    "    \"\"\"\n",
    "    players: list[PlayerInfo] = field(default_factory=list)# Length of this list is the number of rounds in the game\n",
    "\n",
    "@dataclass_json\n",
    "@dataclass\n",
    "class Game:\n",
    "    \"\"\"\n",
    "    Contains a list of RoundInfo objects, one for each round in the CSGO game.\n",
    "    \"\"\"\n",
    "    round_info: list[RoundInfo] = field(default_factory=list) # Length of this list is the number of rounds in the game\n",
    "\n",
    "    def add_player_info(self, round_index: int, player_name: str, team:str, position: Position):\n",
    "        \"\"\"\n",
    "        Uses the given information to construct a PlayerInfo object and add it to the RoundInfo object indexed by round_index\n",
    "        \"\"\"\n",
    "        while len(self.round_info) <= round_index:\n",
    "            self.round_info.append(RoundInfo())\n",
    "        for player in self.round_info[round_index].players:\n",
    "            if player.name == player_name:\n",
    "                player.positions.append(position)\n",
    "                return\n",
    "        self.round_info[round_index].players.append(PlayerInfo(player_name, team, [position]))\n",
    "        return\n",
    "\n",
    "game = Game()\n",
    "\n",
    "@dataclass_json\n",
    "@dataclass\n",
    "class PlayerState:\n",
    "    \"\"\"\n",
    "    \"\"\"\n",
    "    round_index: int\n",
    "    player_name: str\n",
    "    team: str\n",
    "    x: float\n",
    "    y: float\n",
    "    z: float\n",
    "\n",
    "flat_game_info: list[PlayerState] = []\n",
    "\n",
    "for game_round_index in range(0, len(data[\"gameRounds\"])):\n",
    "    frames = data[\"gameRounds\"][game_round_index][\"frames\"]\n",
    "    # print(\"Round: \", game_round_index + 1)\n",
    "    for index, frame in enumerate(frames):\n",
    "        # print(\"Frame: \", index + 1)\n",
    "        for team in [\"ct\", \"t\"]:\n",
    "            for player in frame[team][\"players\"]:\n",
    "                position = Position(player[\"x\"], player[\"y\"], player[\"z\"])\n",
    "                # print(player[\"name\"], position)\n",
    "                game.add_player_info(game_round_index, player[\"name\"], team, position)\n",
    "                flat_game_info.append(PlayerState(game_round_index, player[\"name\"], team, player[\"x\"], player[\"y\"], player[\"z\"]))\n",
    "\n",
    "def debug_print_game(game: Game):\n",
    "    print(\"Round count: \", len(game.round_info))\n",
    "    for round in game.round_info:\n",
    "        print(\"Player count: \", len(round.players))\n",
    "        for player in round.players:\n",
    "            print(\"Frame count: \", len(player.positions))\n",
    "\n",
    "# print(game.to_json())\n",
    "print(flat_game_info)\n",
    "\n"
   ]
  },
  {
   "cell_type": "code",
   "execution_count": null,
   "metadata": {},
   "outputs": [],
   "source": [
    "with open(\"data.csv\", \"w\") as output_file:\n",
    "    writer = csv.writer(output_file)\n",
    "    writer.writerow([class_field.name for class_field in fields(PlayerState)])\n",
    "    for state_entry in flat_game_info:\n",
    "        writer.writerow([getattr(state_entry, field_name) for field_name in [class_field.name for class_field in fields(PlayerState)]])"
   ]
  },
  {
   "cell_type": "code",
   "execution_count": null,
   "metadata": {},
   "outputs": [],
   "source": [
    "d = data\n",
    "plot_round(\"best_round_ever.gif\", d[\"gameRounds\"][7][\"frames\"], map_name=d[\"mapName\"], map_type=\"simpleradar\", dark=False)"
   ]
  },
  {
   "cell_type": "code",
   "execution_count": 1,
   "metadata": {},
   "outputs": [
    {
     "name": "stdout",
     "output_type": "stream",
     "text": [
      "Parsing D:/Samihan/Documents/Programming/Python Projects/CSGO Demo Parsing/demos/cloud9-vs-outsiders-m1-dust2.dem\n",
      "dict_keys(['matchID', 'clientName', 'mapName', 'tickRate', 'playbackTicks', 'playbackFramesCount', 'parsedToFrameIdx', 'parserParameters', 'serverVars', 'matchPhases', 'matchmakingRanks', 'playerConnections', 'gameRounds'])\n"
     ]
    }
   ],
   "source": [
    "import parsing\n",
    "\n",
    "demo_file_name = r\"D:/Samihan/Documents/Programming/Python Projects/CSGO Demo Parsing/demos/cloud9-vs-outsiders-m1-dust2.dem\"\n",
    "print(f\"Parsing {demo_file_name}\")\n",
    "data = parsing.parse_demo_file(demo_file_name)\n",
    "print(data.keys())"
   ]
  },
  {
   "cell_type": "code",
   "execution_count": 3,
   "metadata": {},
   "outputs": [
    {
     "name": "stdout",
     "output_type": "stream",
     "text": [
      "roundNum <class 'int'>\n",
      "isWarmup <class 'bool'>\n",
      "startTick <class 'int'>\n",
      "freezeTimeEndTick <class 'int'>\n",
      "endTick <class 'int'>\n",
      "endOfficialTick <class 'int'>\n",
      "bombPlantTick <class 'NoneType'>\n",
      "tScore <class 'int'>\n",
      "ctScore <class 'int'>\n",
      "endTScore <class 'int'>\n",
      "endCTScore <class 'int'>\n",
      "ctTeam <class 'str'>\n",
      "tTeam <class 'str'>\n",
      "winningSide <class 'str'>\n",
      "winningTeam <class 'str'>\n",
      "losingTeam <class 'str'>\n",
      "roundEndReason <class 'str'>\n",
      "ctFreezeTimeEndEqVal <class 'int'>\n",
      "ctRoundStartEqVal <class 'int'>\n",
      "ctRoundSpendMoney <class 'int'>\n",
      "ctBuyType <class 'str'>\n",
      "tFreezeTimeEndEqVal <class 'int'>\n",
      "tRoundStartEqVal <class 'int'>\n",
      "tRoundSpendMoney <class 'int'>\n",
      "tBuyType <class 'str'>\n",
      "ctSide <class 'dict'>\n",
      "tSide <class 'dict'>\n",
      "kills <class 'list'>\n",
      "damages <class 'list'>\n",
      "grenades <class 'list'>\n",
      "bombEvents <class 'list'>\n",
      "weaponFires <class 'list'>\n",
      "flashes <class 'list'>\n",
      "frames <class 'list'>\n"
     ]
    }
   ],
   "source": [
    "rounds = data[\"gameRounds\"]\n",
    "first_round = rounds[0]\n",
    "for key in first_round.keys():\n",
    "    print(key, type(first_round[key]))"
   ]
  },
  {
   "cell_type": "code",
   "execution_count": null,
   "metadata": {},
   "outputs": [],
   "source": [
    "frames = first_round[\"frames\"]\n",
    "first_frame = frames[0]\n",
    "for key in first_frame.keys():\n",
    "    print(key, type(first_frame[key]))"
   ]
  }
 ],
 "metadata": {
  "kernelspec": {
   "display_name": "Python 3.10.5 ('venv': venv)",
   "language": "python",
   "name": "python3"
  },
  "language_info": {
   "codemirror_mode": {
    "name": "ipython",
    "version": 3
   },
   "file_extension": ".py",
   "mimetype": "text/x-python",
   "name": "python",
   "nbconvert_exporter": "python",
   "pygments_lexer": "ipython3",
   "version": "3.10.5"
  },
  "orig_nbformat": 4,
  "vscode": {
   "interpreter": {
    "hash": "a923a424f45b8256257d59bbb973cc8ea890973d09b2fb951fe7c483bba07dcb"
   }
  }
 },
 "nbformat": 4,
 "nbformat_minor": 2
}
