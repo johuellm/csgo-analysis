{
 "cells": [
  {
   "cell_type": "code",
   "execution_count": null,
   "metadata": {},
   "outputs": [],
   "source": [
    "import parsing\n",
    "\n",
    "demo_file_name = r\"D:/Samihan/Documents/Programming/Python Projects/CSGO Demo Parsing/demos/cloud9-vs-outsiders-m1-dust2.dem\"\n",
    "print(f\"Parsing {demo_file_name}\")\n",
    "data = parsing.parse_demo_file(demo_file_name)\n",
    "# print(data.keys())"
   ]
  },
  {
   "cell_type": "code",
   "execution_count": null,
   "metadata": {},
   "outputs": [],
   "source": [
    "# Loading demo from .json\n",
    "import models\n",
    "import json\n",
    "\n",
    "with open(\"cloud9-vs-outsiders-m1-dust2.json\", \"r\") as file:\n",
    "# with open(\"cloud9-vs-outsiders-m2-ancient.json\", \"r\") as file:\n",
    "    data = json.load(file)\n",
    "\n",
    "demo = models.deserialize_demo_data(data)\n",
    "\n",
    "# Creating timeline and events from demo\n",
    "import timelining\n",
    "\n",
    "timeline = timelining.create_timeline(demo)\n",
    "# print(len(timeline.events))\n",
    "# for event in timeline.events:\n",
    "#     print(event)"
   ]
  },
  {
   "cell_type": "code",
   "execution_count": null,
   "metadata": {},
   "outputs": [],
   "source": [
    "import timelining\n",
    "\n",
    "round_boundary_ticks: list[int] = [(round.frames[0].tick, round.frames[-1].tick) for round in demo.game_rounds]\n",
    "\n",
    "round_frame_ticks: list[list[int]] = []\n",
    "for round in demo.game_rounds:\n",
    "    round_frame_ticks.append([frame.tick for frame in round.frames])\n",
    "\n",
    "organized_events: list[timelining.Event] = [[] for _ in range(0, len(demo.game_rounds))]\n",
    "for event in timeline.events:\n",
    "    for frame_index, frame_ticks in enumerate(round_frame_ticks):\n",
    "        if event.tick in frame_ticks:\n",
    "            organized_events[frame_index].append(event)\n",
    "            break\n",
    "# print(len(organized_events))\n",
    "# print([len(frame) for frame in organized_events])\n",
    "\n",
    "# import plotting\n",
    "\n",
    "# round = demo.game_rounds[0]\n",
    "\n",
    "# plotting.plot_round(f\"round_{round.round_number}\", round, map_name=demo.map_name)\n",
    "\n",
    "import plotting\n",
    "round = demo.game_rounds[0]\n",
    "import cProfile\n",
    "import pstats\n",
    "with cProfile.Profile() as pr:\n",
    "    plotting.plot_round(f\"round_{round.round_number}\", round, map_name=demo.map_name)\n",
    "\n",
    "stats = pstats.Stats(pr)\n",
    "stats.sort_stats(pstats.SortKey.TIME)\n",
    "stats.print_stats()\n",
    "stats.dump_stats(filename=\"info-beta-2.prof\")\n",
    "\n",
    "# TODO: Organize events into frames so each frame of the GIF can have the associated events grouped with it\n",
    "\n",
    "# TODO: Increase frame drawing speed (drawing view vectors is probably what takes the most time so maybe optimize that)"
   ]
  },
  {
   "cell_type": "code",
   "execution_count": null,
   "metadata": {},
   "outputs": [],
   "source": [
    "# Writing events to csv\n",
    "\n",
    "import csv\n",
    "from dataclasses import fields\n",
    "\n",
    "with open(\"events.csv\", \"w\") as file:\n",
    "    writer = csv.writer(file)\n",
    "    all_fields: list[str] = []\n",
    "    for event in timeline.events:\n",
    "        all_fields.extend([field.name for field in fields(event)])\n",
    "    unique_fields = list(dict.fromkeys(all_fields))\n",
    "    # print(unique_fields)\n",
    "    writer.writerow([field for field in unique_fields])\n",
    "    for event in timeline.events:\n",
    "        writer.writerow([getattr(event, field, None) for field in unique_fields])\n",
    "\n",
    "# Writing event descriptions to .csv\n",
    "\n",
    "import csv\n",
    "from dataclasses import fields\n",
    "\n",
    "with open(\"event_descriptions.csv\", \"w\") as file:\n",
    "    writer = csv.writer(file)\n",
    "    writer.writerow([\"tick\", \"name\", \"description\"])\n",
    "    for event in timeline.events:\n",
    "        writer.writerow([event.tick, event.__class__.__name__, str(event)])"
   ]
  },
  {
   "cell_type": "code",
   "execution_count": null,
   "metadata": {},
   "outputs": [],
   "source": [
    "import mathing\n",
    "import numpy as np\n",
    "\n",
    "v1 = np.array([(-2.0, -2.0), (2.0, 2.0)])\n",
    "v2 = np.array([(2.0, 2.0), (-3.0, 3.0)])\n",
    "\n",
    "print(mathing.get_line_segment_intersection_points(v1, v2))"
   ]
  }
 ],
 "metadata": {
  "kernelspec": {
   "display_name": "Python 3.10.5 ('venv': venv)",
   "language": "python",
   "name": "python3"
  },
  "language_info": {
   "codemirror_mode": {
    "name": "ipython",
    "version": 3
   },
   "file_extension": ".py",
   "mimetype": "text/x-python",
   "name": "python",
   "nbconvert_exporter": "python",
   "pygments_lexer": "ipython3",
   "version": "3.10.5"
  },
  "orig_nbformat": 4,
  "vscode": {
   "interpreter": {
    "hash": "a923a424f45b8256257d59bbb973cc8ea890973d09b2fb951fe7c483bba07dcb"
   }
  }
 },
 "nbformat": 4,
 "nbformat_minor": 2
}
